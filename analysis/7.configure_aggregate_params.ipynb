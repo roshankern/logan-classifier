{
 "cells": [
  {
   "cell_type": "markdown",
   "metadata": {},
   "source": [
    "# Configure Aggregate Module Params\n",
    "\n",
    "This notebook should be used as a test for ensuring correct aggregate parameters before aggregate processing.\n",
    "Cells marked with <font color='red'>SET PARAMETERS</font> contain crucial variables that need to be set according to your specific experimental setup and data organization.\n",
    "Please review and modify these variables as needed before proceeding with the analysis."
   ]
  },
  {
   "cell_type": "markdown",
   "metadata": {},
   "source": [
    "## <font color='red'>SET PARAMETERS</font>\n",
    "\n",
    "### Fixed parameters for aggregate module\n",
    "\n",
    "- `CONFIG_FILE_PATH`: Path to a Brieflow config file used during processing. Absolute or relative to where workflows are run from."
   ]
  },
  {
   "cell_type": "code",
   "execution_count": null,
   "metadata": {},
   "outputs": [],
   "source": [
    "CONFIG_FILE_PATH = \"config/config.yml\""
   ]
  },
  {
   "cell_type": "code",
   "execution_count": null,
   "metadata": {},
   "outputs": [],
   "source": [
    "from pathlib import Path\n",
    "\n",
    "import yaml\n",
    "import pandas as pd\n",
    "import matplotlib.pyplot as plt\n",
    "\n",
    "from lib.shared.file_utils import get_filename\n",
    "from lib.aggregate.load_format_data import clean_cell_data, load_parquet_subset\n",
    "from lib.aggregate.feature_processing import feature_transform, grouped_standardization\n",
    "from lib.aggregate.collapse_data import collapse_to_sgrna, collapse_to_gene\n",
    "from lib.aggregate.eval_aggregate import suggest_parameters\n",
    "from lib.aggregate.cell_classification import (\n",
    "    plot_mitotic_distribution_hist,\n",
    "    plot_mitotic_distribution_scatter,\n",
    "    split_mitotic_simple,\n",
    ")\n",
    "from lib.aggregate.montage_utils import create_cell_montage, add_filenames\n",
    "from lib.shared.configuration_utils import CONFIG_FILE_HEADER"
   ]
  },
  {
   "cell_type": "markdown",
   "metadata": {},
   "source": [
    "## <font color='red'>SET PARAMETERS</font>\n",
    "\n",
    "### Testing on subset of data\n",
    "\n",
    "- `TEST_PLATE`: Plate used for testing configuration \n",
    "- `TEST_WELL`: Well identifier used for testing configuration \n",
    "- `POPULATION_FEATURE`: The column name that identifies your perturbation groups (e.g., 'gene_symbol_0' for CRISPR screens, 'treatment' for drug screens)\n",
    "- `FILTER_SINGLE_GENE`: Whether or not to ONLY keep cells with mapped_single_gene=True."
   ]
  },
  {
   "cell_type": "code",
   "execution_count": null,
   "metadata": {},
   "outputs": [],
   "source": [
    "TEST_PLATE = None\n",
    "TEST_WELL = None\n",
    "\n",
    "POPULATION_FEATURE = None\n",
    "FILTER_SINGLE_GENE = None"
   ]
  },
  {
   "cell_type": "code",
   "execution_count": null,
   "metadata": {},
   "outputs": [],
   "source": [
    "# load config file and determine root path\n",
    "with open(CONFIG_FILE_PATH, \"r\") as config_file:\n",
    "    config = yaml.safe_load(config_file)\n",
    "ROOT_FP = Path(config[\"all\"][\"root_fp\"])\n",
    "\n",
    "# Load subset of data\n",
    "# Takes ~1 minute\n",
    "merge_final_fp = (\n",
    "    ROOT_FP\n",
    "    / \"merge\"\n",
    "    / \"parquets\"\n",
    "    / get_filename({\"plate\": TEST_PLATE, \"well\": TEST_WELL}, \"merge_final\", \"parquet\")\n",
    ")\n",
    "merge_final = load_parquet_subset(merge_final_fp)\n",
    "print(f\"Unique populations: {merge_final[POPULATION_FEATURE].nunique()}\")\n",
    "\n",
    "# Remove unassigned cells\n",
    "clean_df = clean_cell_data(\n",
    "    merge_final, POPULATION_FEATURE, filter_single_gene=FILTER_SINGLE_GENE\n",
    ")\n",
    "print(f\"Loaded {len(merge_final)} cells with {len(merge_final.columns)} features\")"
   ]
  },
  {
   "cell_type": "markdown",
   "metadata": {},
   "source": [
    "## <font color='red'>SET PARAMETERS</font>\n",
    "\n",
    "### Apply feature transformations\n",
    "\n",
    "- `TRANFORMATIONS_FP`: CSV file containing feature transformation specifications. Each row defines a feature pattern and its transformation (e.g., 'log(feature)', 'log(feature-1)'), and should have a feature and transformation column"
   ]
  },
  {
   "cell_type": "code",
   "execution_count": null,
   "metadata": {},
   "outputs": [],
   "source": [
    "TRANFORMATIONS_FP = None"
   ]
  },
  {
   "cell_type": "code",
   "execution_count": null,
   "metadata": {},
   "outputs": [],
   "source": [
    "# load lower case version of channels\n",
    "channels = [channel.lower() for channel in config[\"phenotype\"][\"channel_names\"]]\n",
    "\n",
    "# load transformations\n",
    "transformations = pd.read_csv(TRANFORMATIONS_FP, sep=\"\\t\")\n",
    "\n",
    "# perform feature transformation\n",
    "transformed_df = feature_transform(clean_df, transformations, channels)\n",
    "transformed_df"
   ]
  },
  {
   "cell_type": "markdown",
   "metadata": {},
   "source": [
    "## <font color='red'>SET PARAMETERS</font>\n",
    "\n",
    "### Standardize features\n",
    "\n",
    "- `CONTROL_PREFIX`: Prefix identifying control populations.\n",
    "- `GROUP_COLUMNS`: Columns defining experimental groups (e.g., `['well']` for per-well standardization).\n",
    "- `INDEX_COLUMNS`: Columns uniquely identifying cells (e.g., `['tile', 'cell_0']`).\n",
    "- `CAT_COLUMNS`: Categorical columns to preserve.\n",
    "- `FEATURE_START`: First column containing measured features.\n",
    "\n",
    "We provide a useful function for suggesting these parameters, `suggest_parameters`."
   ]
  },
  {
   "cell_type": "code",
   "execution_count": null,
   "metadata": {},
   "outputs": [],
   "source": [
    "suggest_parameters(clean_df, POPULATION_FEATURE)"
   ]
  },
  {
   "cell_type": "code",
   "execution_count": null,
   "metadata": {},
   "outputs": [],
   "source": [
    "CONTROL_PREFIX = None\n",
    "GROUP_COLUMNS = None\n",
    "INDEX_COLUMNS = None\n",
    "CAT_COLUMNS = None\n",
    "FEATURE_START = None"
   ]
  },
  {
   "cell_type": "code",
   "execution_count": null,
   "metadata": {},
   "outputs": [],
   "source": [
    "# Identify features to standardize (all columns after mapped_single_gene)\n",
    "feature_start_idx = transformed_df.columns.get_loc(FEATURE_START)\n",
    "target_features = transformed_df.columns[feature_start_idx:].tolist()\n",
    "# Standardize the data\n",
    "standardized_df = grouped_standardization(\n",
    "    transformed_df,\n",
    "    population_feature=POPULATION_FEATURE,\n",
    "    control_prefix=CONTROL_PREFIX,\n",
    "    group_columns=GROUP_COLUMNS,\n",
    "    index_columns=INDEX_COLUMNS,\n",
    "    cat_columns=CAT_COLUMNS,\n",
    "    target_features=target_features,\n",
    "    drop_features=False,\n",
    ")\n",
    "\n",
    "# add phenotype image filenames for each well/tile\n",
    "standardized_df = add_filenames(standardized_df, ROOT_FP)\n",
    "\n",
    "standardized_df"
   ]
  },
  {
   "cell_type": "markdown",
   "metadata": {},
   "source": [
    "## <font color='red'>SET PARAMETERS</font>\n",
    "\n",
    "### Split mitotic and interphase data\n",
    "\n",
    "- `MITOTIC_THRESHOLD_VARIABLE`: Column name used to identify mitotic cells (e.g., 'nucleus_dapi_int' for DAPI intensity)  \n",
    "- `MITOTIC_THRESHOLD`: Numerical threshold to separate mitotic from interphase cells (examine intensity histogram to determine appropriate value)\n",
    "\n",
    "**Note**: One can test multiple thresholds below and decide on a final thresholding strategy decided later."
   ]
  },
  {
   "cell_type": "code",
   "execution_count": null,
   "metadata": {},
   "outputs": [],
   "source": [
    "# thresholding with variable 1\n",
    "MITOTIC_THRESHOLD_VARIABLE_X = None\n",
    "MITOTIC_THRESHOLD_X = None\n",
    "\n",
    "# thresholding with variable 2\n",
    "MITOTIC_THRESHOLD_VARIABLE_Y = None\n",
    "MITOTIC_THRESHOLD_Y = None"
   ]
  },
  {
   "cell_type": "code",
   "execution_count": null,
   "metadata": {},
   "outputs": [],
   "source": [
    "percent_mitotic = plot_mitotic_distribution_hist(\n",
    "    standardized_df,\n",
    "    threshold_variable=MITOTIC_THRESHOLD_VARIABLE_X,\n",
    "    threshold_value=MITOTIC_THRESHOLD_X,\n",
    ")\n",
    "\n",
    "percent_mitotic = plot_mitotic_distribution_hist(\n",
    "    standardized_df,\n",
    "    threshold_variable=MITOTIC_THRESHOLD_VARIABLE_Y,\n",
    "    threshold_value=MITOTIC_THRESHOLD_Y,\n",
    ")\n",
    "\n",
    "plot_mitotic_distribution_scatter(\n",
    "    standardized_df,\n",
    "    threshold_variable_x=MITOTIC_THRESHOLD_VARIABLE_X,\n",
    "    threshold_variable_y=MITOTIC_THRESHOLD_VARIABLE_Y,\n",
    "    threshold_x=MITOTIC_THRESHOLD_X,\n",
    "    threshold_y=MITOTIC_THRESHOLD_Y,\n",
    "    alpha=0.1,\n",
    ")"
   ]
  },
  {
   "cell_type": "markdown",
   "metadata": {},
   "source": [
    "## <font color='red'>SET PARAMETERS</font>\n",
    "\n",
    "### Final mitotic thresholding\n",
    "\n",
    "- `THRESHOLD_CONDITIONS`: Columns, values, and direction to use for thresholding. Use the montages generated below to assess thresholding strategy."
   ]
  },
  {
   "cell_type": "code",
   "execution_count": null,
   "metadata": {},
   "outputs": [],
   "source": [
    "# Final thresholding strategy\n",
    "THRESHOLD_CONDITIONS = None"
   ]
  },
  {
   "cell_type": "code",
   "execution_count": null,
   "metadata": {},
   "outputs": [],
   "source": [
    "# Use final thresholding to split cells\n",
    "mitotic_df, interphase_df = split_mitotic_simple(standardized_df, THRESHOLD_CONDITIONS)\n",
    "print(\n",
    "    f\"Subsetting {len(mitotic_df)} mitotic cells and {len(interphase_df)} interphase cells\"\n",
    ")\n",
    "\n",
    "# Get channels from config\n",
    "CHANNELS = config[\"phenotype\"][\"channel_names\"]\n",
    "\n",
    "# Create figure to evaluate DAPI cutoff\n",
    "\n",
    "titles = [\n",
    "    \"Randomly Selected Interphase Cells - DAPI\",\n",
    "    \"Randomly Selected Mitotic Cells - DAPI\",\n",
    "    \"Highest DAPI Median Interphase Cells - DAPI\",\n",
    "    \"Lowest DAPI Median Mitotic Cells - DAPI\",\n",
    "]\n",
    "\n",
    "montages = [\n",
    "    create_cell_montage(\n",
    "        cell_data=interphase_df,\n",
    "        channels=CHANNELS,\n",
    "        selection_params={\n",
    "            \"method\": \"random\",\n",
    "        },\n",
    "    )[\"DAPI\"],\n",
    "    create_cell_montage(\n",
    "        cell_data=mitotic_df,\n",
    "        channels=CHANNELS,\n",
    "        selection_params={\n",
    "            \"method\": \"random\",\n",
    "        },\n",
    "    )[\"DAPI\"],\n",
    "    create_cell_montage(\n",
    "        cell_data=interphase_df,\n",
    "        channels=CHANNELS,\n",
    "        selection_params={\n",
    "            \"method\": \"sorted\",\n",
    "            \"sort_by\": \"nucleus_DAPI_median\",\n",
    "            \"ascending\": False,\n",
    "        },\n",
    "    )[\"DAPI\"],\n",
    "    create_cell_montage(\n",
    "        cell_data=mitotic_df,\n",
    "        channels=CHANNELS,\n",
    "        selection_params={\n",
    "            \"method\": \"sorted\",\n",
    "            \"sort_by\": \"nucleus_DAPI_median\",\n",
    "            \"ascending\": True,\n",
    "        },\n",
    "    )[\"DAPI\"],\n",
    "]\n",
    "\n",
    "# Initialize figure and subplots\n",
    "fig, axes = plt.subplots(2, 2, figsize=(10, 4))\n",
    "\n",
    "# Display each montage\n",
    "for ax, title, montage in zip(axes.flat, titles, montages):\n",
    "    ax.imshow(montage, cmap=\"gray\")\n",
    "    ax.set_title(title, fontsize=14)\n",
    "    ax.axis(\"off\")\n",
    "\n",
    "# Adjust layout and show the plot\n",
    "plt.tight_layout()\n",
    "plt.show()"
   ]
  },
  {
   "cell_type": "code",
   "execution_count": null,
   "metadata": {},
   "outputs": [],
   "source": [
    "# Re-standardize mitotic population\n",
    "mitotic_standardized_df = grouped_standardization(\n",
    "    mitotic_df,\n",
    "    population_feature=POPULATION_FEATURE,\n",
    "    control_prefix=CONTROL_PREFIX,\n",
    "    group_columns=GROUP_COLUMNS,\n",
    "    index_columns=INDEX_COLUMNS,\n",
    "    cat_columns=CAT_COLUMNS,\n",
    "    target_features=target_features,\n",
    "    drop_features=True,\n",
    ")\n",
    "\n",
    "# Re-standardize interphase population\n",
    "interphase_standardized_df = grouped_standardization(\n",
    "    interphase_df,\n",
    "    population_feature=POPULATION_FEATURE,\n",
    "    control_prefix=CONTROL_PREFIX,\n",
    "    group_columns=GROUP_COLUMNS,\n",
    "    index_columns=INDEX_COLUMNS,\n",
    "    cat_columns=CAT_COLUMNS,\n",
    "    target_features=target_features,\n",
    "    drop_features=True,\n",
    ")\n",
    "\n",
    "# Get sgrna summaries for mitotic\n",
    "mitotic_sgrna_df = collapse_to_sgrna(\n",
    "    mitotic_standardized_df,\n",
    "    method=\"median\",\n",
    "    target_features=target_features,\n",
    "    index_features=[POPULATION_FEATURE, \"sgRNA_0\"],\n",
    "    control_prefix=CONTROL_PREFIX,\n",
    ")\n",
    "\n",
    "# Get sgrna summaries for interphase\n",
    "interphase_sgrna_df = collapse_to_sgrna(\n",
    "    interphase_standardized_df,\n",
    "    method=\"median\",\n",
    "    target_features=target_features,\n",
    "    index_features=[POPULATION_FEATURE, \"sgRNA_0\"],\n",
    "    control_prefix=CONTROL_PREFIX,\n",
    ")\n",
    "\n",
    "# Get gene summaries for mitotic\n",
    "mitotic_gene_df = collapse_to_gene(\n",
    "    mitotic_sgrna_df,\n",
    "    target_features=target_features,\n",
    "    index_features=[POPULATION_FEATURE],\n",
    ")\n",
    "\n",
    "# Get gene summaries for interphase\n",
    "interphase_gene_df = collapse_to_gene(\n",
    "    interphase_sgrna_df,\n",
    "    target_features=target_features,\n",
    "    index_features=[POPULATION_FEATURE],\n",
    ")\n",
    "\n",
    "# Show summary of subset aggregation\n",
    "summary = pd.DataFrame(\n",
    "    {\n",
    "        \"Stage\": [\n",
    "            \"Raw Data\",\n",
    "            \"Mitotic Cells\",\n",
    "            \"Interphase Cells\",\n",
    "            \"Mitotic sgRNAs\",\n",
    "            \"Interphase sgRNAs\",\n",
    "            \"Mitotic Genes\",\n",
    "            \"Interphase Genes\",\n",
    "        ],\n",
    "        \"Count\": [\n",
    "            len(clean_df),\n",
    "            len(mitotic_df),\n",
    "            len(interphase_df),\n",
    "            len(mitotic_sgrna_df),\n",
    "            len(interphase_sgrna_df),\n",
    "            len(mitotic_gene_df),\n",
    "            len(interphase_gene_df),\n",
    "        ],\n",
    "    }\n",
    ")\n",
    "print(\"\\nAnalysis Summary of Data Subset:\")\n",
    "summary"
   ]
  },
  {
   "cell_type": "markdown",
   "metadata": {},
   "source": [
    "## Add aggregate parameters to config file"
   ]
  },
  {
   "cell_type": "code",
   "execution_count": null,
   "metadata": {},
   "outputs": [],
   "source": [
    "# Add aggregate section\n",
    "config[\"aggregate\"] = {\n",
    "    \"transformations_fp\": TRANFORMATIONS_FP,\n",
    "    \"population_feature\": POPULATION_FEATURE,\n",
    "    \"filter_single_gene\": FILTER_SINGLE_GENE,\n",
    "    \"feature_start\": FEATURE_START,\n",
    "    \"control_prefix\": CONTROL_PREFIX,\n",
    "    \"group_columns\": GROUP_COLUMNS,\n",
    "    \"index_columns\": INDEX_COLUMNS,\n",
    "    \"cat_columns\": CAT_COLUMNS,\n",
    "    \"threshold_conditions\": THRESHOLD_CONDITIONS,\n",
    "}\n",
    "\n",
    "# Write the updated configuration\n",
    "with open(CONFIG_FILE_PATH, \"w\") as config_file:\n",
    "    # Write the introductory comments\n",
    "    config_file.write(CONFIG_FILE_HEADER)\n",
    "\n",
    "    # Dump the updated YAML structure, keeping markdown comments for sections\n",
    "    yaml.dump(config, config_file, default_flow_style=False)"
   ]
  }
 ],
 "metadata": {
  "kernelspec": {
   "display_name": "brieflow_configuration",
   "language": "python",
   "name": "python3"
  },
  "language_info": {
   "name": "python",
   "version": "3.11.11"
  }
 },
 "nbformat": 4,
 "nbformat_minor": 2
}
