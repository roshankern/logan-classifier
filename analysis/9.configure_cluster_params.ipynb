{
 "cells": [
  {
   "cell_type": "markdown",
   "metadata": {},
   "source": [
    "# Configure Cluster Module Params\n",
    "\n",
    "This notebook should be used as a test for ensuring correct cluster parameters before cluster processing.\n",
    "Cells marked with <font color='red'>SET PARAMETERS</font> contain crucial variables that need to be set according to your specific experimental setup and data organization.\n",
    "Please review and modify these variables as needed before proceeding with the analysis."
   ]
  },
  {
   "cell_type": "markdown",
   "metadata": {},
   "source": [
    "## <font color='red'>SET PARAMETERS</font>\n",
    "\n",
    "### Fixed parameters for cluster module\n",
    "\n",
    "- `CONFIG_FILE_PATH`: Path to a Brieflow config file used during processing. Absolute or relative to where workflows are run from."
   ]
  },
  {
   "cell_type": "code",
   "execution_count": null,
   "metadata": {},
   "outputs": [],
   "source": [
    "CONFIG_FILE_PATH = \"config/config.yml\""
   ]
  },
  {
   "cell_type": "code",
   "execution_count": null,
   "metadata": {},
   "outputs": [],
   "source": [
    "from pathlib import Path\n",
    "\n",
    "import yaml\n",
    "import pandas as pd\n",
    "from matplotlib import pyplot as plt\n",
    "\n",
    "from lib.cluster.cluster_eval import plot_cell_histogram\n",
    "from lib.cluster.generate_dataset import (\n",
    "    clean_and_validate,\n",
    "    split_channels,\n",
    "    remove_low_number_genes,\n",
    "    remove_missing_features,\n",
    ")\n",
    "from lib.cluster.phate_leiden_clustering import (\n",
    "    select_features,\n",
    "    normalize_to_controls,\n",
    "    perform_pca_analysis,\n",
    "    phate_leiden_pipeline,\n",
    "    dimensionality_reduction,\n",
    "    merge_phate_uniprot,\n",
    ")\n",
    "from lib.cluster.benchmark_clusters import (\n",
    "    create_cluster_gene_table,\n",
    "    analyze_differential_features,\n",
    "    process_interactions,\n",
    ")\n",
    "from lib.cluster.scrape_benchmarks import (\n",
    "    get_uniprot_data,\n",
    "    get_string_data,\n",
    "    get_corum_data,\n",
    ")\n",
    "from lib.shared.configuration_utils import CONFIG_FILE_HEADER"
   ]
  },
  {
   "cell_type": "code",
   "execution_count": null,
   "metadata": {},
   "outputs": [],
   "source": [
    "# load config file and determine root path\n",
    "with open(CONFIG_FILE_PATH, \"r\") as config_file:\n",
    "    config = yaml.safe_load(config_file)\n",
    "    ROOT_FP = Path(config[\"all\"][\"root_fp\"])"
   ]
  },
  {
   "cell_type": "markdown",
   "metadata": {},
   "source": [
    "## <font color='red'>SET PARAMETERS</font>\n",
    "\n",
    "### Cluster processing\n",
    "\n",
    "- `CHANNEL_COMBOS`: Combinations of channels to use during cluster process.\n",
    "- `DATASET_TYPES`: Dataset types to use during cluster process; created during the aggregate process.\n",
    "- `MIN_CELL_CUTOFFS`: Minimum cells for each gene to be used in clusetering analysis. More cells per gene increases confidence, but some dataset types (ex mitotic) may have an inherently low number of cells for a particular perturbation."
   ]
  },
  {
   "cell_type": "code",
   "execution_count": null,
   "metadata": {},
   "outputs": [],
   "source": [
    "# parameters for all cluster processing\n",
    "CHANNEL_COMBOS = None\n",
    "DATASET_TYPES = None\n",
    "MIN_CELL_CUTOFFS = None"
   ]
  },
  {
   "cell_type": "code",
   "execution_count": null,
   "metadata": {},
   "outputs": [],
   "source": [
    "for dataset_type, min_cell_cutoff in MIN_CELL_CUTOFFS.items():\n",
    "    # load and clean relevant dataset\n",
    "    gene_data_fp = ROOT_FP / \"aggregate\" / \"tsvs\" / f\"{dataset_type}_gene_data.tsv\"\n",
    "    gene_data = pd.read_csv(gene_data_fp, sep=\"\\t\")\n",
    "    cleaned_data = clean_and_validate(gene_data)\n",
    "\n",
    "    # show cell count distribution\n",
    "    print(f\"Cell count distribution for: {dataset_type}\")\n",
    "    plot_cell_histogram(cleaned_data, min_cell_cutoff)\n",
    "    plt.show()"
   ]
  },
  {
   "cell_type": "markdown",
   "metadata": {},
   "source": [
    "## <font color='red'>SET PARAMETERS</font>\n",
    "\n",
    "### Cluster testing\n",
    "\n",
    "- `TEST_CHANNEL_COMBO`: Channel combination to use for testing cluster process. Should be smallest or most relevant channel combination.\n",
    "- `TEST_DATASET_TYPE`: Dataset type to use for testing cluster process. Should be smallest or most relevant dataset type."
   ]
  },
  {
   "cell_type": "code",
   "execution_count": null,
   "metadata": {},
   "outputs": [],
   "source": [
    "# parameters for testing cluster processing\n",
    "TEST_CHANNEL_COMBO = None\n",
    "TEST_DATASET_TYPE = None"
   ]
  },
  {
   "cell_type": "code",
   "execution_count": null,
   "metadata": {},
   "outputs": [],
   "source": [
    "# load gene data based on dataset we are processing\n",
    "gene_data_fp = ROOT_FP / \"aggregate\" / \"tsvs\" / f\"{TEST_DATASET_TYPE}_gene_data.tsv\"\n",
    "gene_data = pd.read_csv(gene_data_fp, sep=\"\\t\")\n",
    "\n",
    "# clean and validate gene data\n",
    "validated_data = clean_and_validate(gene_data)\n",
    "\n",
    "# filter dataset for channels of interest\n",
    "channel_filtered_data = split_channels(\n",
    "    validated_data,\n",
    "    TEST_CHANNEL_COMBO,\n",
    "    config[\"phenotype\"][\"channel_names\"],\n",
    ")\n",
    "\n",
    "# clean low number genes and missing features\n",
    "cleaned_data = remove_low_number_genes(\n",
    "    channel_filtered_data, MIN_CELL_CUTOFFS[TEST_DATASET_TYPE]\n",
    ")\n",
    "cleaned_data = remove_missing_features(cleaned_data)\n",
    "\n",
    "cleaned_data"
   ]
  },
  {
   "cell_type": "markdown",
   "metadata": {},
   "source": [
    "## <font color='red'>SET PARAMETERS</font>\n",
    "\n",
    "### Feature selection\n",
    "\n",
    "- `CORRELATION_THRESHOLD`: Features with a correlation (to another feature) above this threshold are iteratively removed to get \"unique\" features.\n",
    "- `VARIANCE_THRESHOLD`: Features with variance below this threshold are removed.\n",
    "- `MIN_UNIQUE_VALUES`: Features with a number of unique values below this threshold are removed."
   ]
  },
  {
   "cell_type": "code",
   "execution_count": null,
   "metadata": {},
   "outputs": [],
   "source": [
    "# parameters used for feature selection\n",
    "CORRELATION_THRESHOLD = None\n",
    "VARIANCE_THRESHOLD = None\n",
    "MIN_UNIQUE_VALUES = None"
   ]
  },
  {
   "cell_type": "code",
   "execution_count": null,
   "metadata": {},
   "outputs": [],
   "source": [
    "# select features\n",
    "filtered_data, removed_features = select_features(\n",
    "    cleaned_data,\n",
    "    correlation_threshold=CORRELATION_THRESHOLD,\n",
    "    variance_threshold=VARIANCE_THRESHOLD,\n",
    "    min_unique_values=MIN_UNIQUE_VALUES,\n",
    ")\n",
    "\n",
    "filtered_data"
   ]
  },
  {
   "cell_type": "markdown",
   "metadata": {},
   "source": [
    "## <font color='red'>SET PARAMETERS</font>\n",
    "\n",
    "### Phate/Leiden Clustering\n",
    "\n",
    "- `CUM_VAR_THRESHOLD`: Minimum cumulative variance that needs to be explained by selected PCA features. Higher variance = more features.\n",
    "- `LEIDEN_RESOLUTION`: Resolution for Leiden clustering. "
   ]
  },
  {
   "cell_type": "code",
   "execution_count": null,
   "metadata": {},
   "outputs": [],
   "source": [
    "CUM_VAR_THRESHOLD = None\n",
    "LEIDEN_RESOLUTION = None"
   ]
  },
  {
   "cell_type": "code",
   "execution_count": null,
   "metadata": {},
   "outputs": [],
   "source": [
    "CONTROL_PREFIX = config[\"aggregate\"][\"control_prefix\"]\n",
    "POPULATION_FEATURE = config[\"aggregate\"][\"population_feature\"]\n",
    "\n",
    "# normalize filtered data\n",
    "normalized_data = normalize_to_controls(filtered_data, CONTROL_PREFIX)\n",
    "\n",
    "# threshold data with pca\n",
    "pca_thresholded_data, n_components, pca, fig = perform_pca_analysis(\n",
    "    normalized_data, CUM_VAR_THRESHOLD\n",
    ")\n",
    "fig.show()\n",
    "\n",
    "# perform phate leiden clustering\n",
    "phate_leiden_clustering = phate_leiden_pipeline(\n",
    "    pca_thresholded_data, resolution=LEIDEN_RESOLUTION\n",
    ")\n",
    "\n",
    "# create plot with phate leiden clustering\n",
    "dimensionality_reduction(\n",
    "    phate_leiden_clustering,\n",
    "    x=\"PHATE_0\",\n",
    "    y=\"PHATE_1\",\n",
    "    control_query=f'{POPULATION_FEATURE}.str.startswith(\"{CONTROL_PREFIX}\")',\n",
    "    control_color=\"lightgray\",\n",
    "    control_legend=True,\n",
    "    label_query=f'~{POPULATION_FEATURE}.str.startswith(\"{CONTROL_PREFIX}\")',\n",
    "    label_hue=\"cluster\",\n",
    "    label_palette=\"husl\",\n",
    "    s=25,\n",
    "    hide_axes=False,\n",
    "    label_legend=False,\n",
    "    legend_kwargs={\"loc\": \"center left\", \"bbox_to_anchor\": (1, 0.5)},\n",
    ")"
   ]
  },
  {
   "cell_type": "markdown",
   "metadata": {},
   "source": [
    "## <font color='red'>SET PARAMETERS</font>\n",
    "\n",
    "### Cluster Analysis\n",
    "\n",
    "- `UNIPROT_DATA_FP`: Path to save and access UniProt data with gene descriptions.\n",
    "- `STRING_DATA_FP`: Path to save and access STRING data with gene pairs.\n",
    "- `CORUM_DATA_FP`: Path to save and access CORUM data with gene complexes."
   ]
  },
  {
   "cell_type": "code",
   "execution_count": null,
   "metadata": {},
   "outputs": [],
   "source": [
    "UNIPROT_DATA_FP = \"config/benchmark_clusters/uniprot_data.tsv\"\n",
    "STRING_DATA_FP = \"config/benchmark_clusters/string_data.tsv\"\n",
    "CORUM_DATA_FP = \"config/benchmark_clusters/corum_data.tsv\""
   ]
  },
  {
   "cell_type": "code",
   "execution_count": null,
   "metadata": {},
   "outputs": [],
   "source": [
    "# get and save uniprot data\n",
    "uniprot_data = get_uniprot_data()\n",
    "uniprot_data.to_csv(UNIPROT_DATA_FP, sep=\"\\t\", index=False)\n",
    "display(uniprot_data)\n",
    "\n",
    "# get and save string data\n",
    "string_data = get_string_data()\n",
    "string_data.to_csv(STRING_DATA_FP, sep=\"\\t\", index=False)\n",
    "display(string_data)\n",
    "\n",
    "# get and save corum data\n",
    "corum_data = get_corum_data()\n",
    "corum_data.to_csv(CORUM_DATA_FP, sep=\"\\t\", index=False)\n",
    "display(corum_data)"
   ]
  },
  {
   "cell_type": "code",
   "execution_count": null,
   "metadata": {},
   "outputs": [],
   "source": [
    "# load cluster data with uniprot annotations\n",
    "phate_leiden_uniprot = merge_phate_uniprot(phate_leiden_clustering, UNIPROT_DATA_FP)\n",
    "\n",
    "# create cluster gene table\n",
    "cluster_gene_table = create_cluster_gene_table(\n",
    "    phate_leiden_uniprot,\n",
    "    columns_to_combine=[POPULATION_FEATURE, \"STRING\"],\n",
    ")\n",
    "\n",
    "# analyze differential features\n",
    "cluster_gene_table, diff_results = analyze_differential_features(\n",
    "    cluster_gene_table, cleaned_data\n",
    ")\n",
    "\n",
    "# process interactions and get enrichment results\n",
    "cluster_gene_table, global_metrics = process_interactions(\n",
    "    cluster_gene_table, STRING_DATA_FP, CORUM_DATA_FP\n",
    ")\n",
    "\n",
    "# show cluster analysis results\n",
    "display(cluster_gene_table)\n",
    "display(global_metrics)"
   ]
  },
  {
   "cell_type": "markdown",
   "metadata": {},
   "source": [
    "## Add cluster parameters to config file"
   ]
  },
  {
   "cell_type": "code",
   "execution_count": null,
   "metadata": {},
   "outputs": [],
   "source": [
    "# Add cluster section\n",
    "config[\"cluster\"] = {\n",
    "    \"channel_combos\": CHANNEL_COMBOS,\n",
    "    \"dataset_types\": DATASET_TYPES,\n",
    "    \"min_cell_cutoffs\": MIN_CELL_CUTOFFS,\n",
    "    \"correlation_threshold\": CORRELATION_THRESHOLD,\n",
    "    \"variance_threshold\": VARIANCE_THRESHOLD,\n",
    "    \"min_unique_values\": MIN_UNIQUE_VALUES,\n",
    "    \"cum_var_threshold\": CUM_VAR_THRESHOLD,\n",
    "    \"leiden_resolution\": LEIDEN_RESOLUTION,\n",
    "    \"uniprot_data_fp\": UNIPROT_DATA_FP,\n",
    "    \"string_data_fp\": STRING_DATA_FP,\n",
    "    \"corum_data_fp\": CORUM_DATA_FP,\n",
    "}\n",
    "\n",
    "# Write the updated configuration\n",
    "with open(CONFIG_FILE_PATH, \"w\") as config_file:\n",
    "    # Write the introductory comments\n",
    "    config_file.write(CONFIG_FILE_HEADER)\n",
    "\n",
    "    # Dump the updated YAML structure, keeping markdown comments for sections\n",
    "    yaml.dump(config, config_file, default_flow_style=False)"
   ]
  }
 ],
 "metadata": {
  "kernelspec": {
   "display_name": "brieflow_configuration",
   "language": "python",
   "name": "python3"
  },
  "language_info": {
   "name": "python",
   "version": "3.11.11"
  }
 },
 "nbformat": 4,
 "nbformat_minor": 2
}
